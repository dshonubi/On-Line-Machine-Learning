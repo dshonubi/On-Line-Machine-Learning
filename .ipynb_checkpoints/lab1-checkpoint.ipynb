{
 "cells": [
  {
   "cell_type": "markdown",
   "metadata": {},
   "source": [
    "# CS4200/5200 On-line Learning Lab Session 1: Dynamic Programming for hmm in Python\n",
    "\n",
    "Suppose we have a Markov chain with $N$ hidden states and $K$ possible\n",
    "observations. Let $M$ be the transition matrix (size $N\\times N$), $B$ be\n",
    "the emission matrix (size $N\\times K$) and $p$ be the vector of\n",
    "initial probabilities (size $1\\times N$)."
   ]
  },
  {
   "cell_type": "code",
   "execution_count": 1,
   "metadata": {},
   "outputs": [],
   "source": [
    "import numpy as np"
   ]
  },
  {
   "cell_type": "markdown",
   "metadata": {},
   "source": [
    "## Joint Probability\n",
    "\n",
    "Let us calculate the joint probability of hidden states and observations. \n",
    "\n",
    "In the Note on Calculating Alphas in the Forward-Backward Algorithm we considered a hidden Markov model with 2 hidden states $s_1$ and $s_2$ and 4 possible observations $x_1$, $x_2$, $x_3$, and $x_4$. The\n",
    "probabilities are as follows:\n",
    "\n",
    "Transition matrix:\n",
    "$$\n",
    "M =\n",
    "\\begin{pmatrix}\n",
    "0.8 & 0.2\\\\\n",
    "0.3 & 0.7\n",
    "\\end{pmatrix} \n",
    "$$\n",
    "\n",
    "Emission matrix:\n",
    "$$\n",
    "B =\n",
    "\\begin{pmatrix}\n",
    "0.3 & 0.4 & 0.1 & 0.2\\\\\n",
    "0.2 & 0.2 & 0.3 & 0.3\n",
    "\\end{pmatrix}\n",
    "$$\n",
    "\n",
    "Initial probabilities\n",
    "$$\n",
    "p = \n",
    "\\begin{pmatrix}\n",
    "0.4 \\\\\n",
    "0.6\n",
    "\\end{pmatrix}\n",
    "$$\n",
    "\n",
    "We can represent these as"
   ]
  },
  {
   "cell_type": "code",
   "execution_count": 2,
   "metadata": {},
   "outputs": [
    {
     "name": "stdout",
     "output_type": "stream",
     "text": [
      "[[0.8 0.2]\n",
      " [0.3 0.7]]\n"
     ]
    }
   ],
   "source": [
    "M = np.array([[0.8, 0.2],[0.3,0.7]])\n",
    "print(M)"
   ]
  },
  {
   "cell_type": "code",
   "execution_count": 3,
   "metadata": {},
   "outputs": [
    {
     "name": "stdout",
     "output_type": "stream",
     "text": [
      "[[0.3 0.4 0.1 0.2]\n",
      " [0.2 0.2 0.3 0.3]]\n"
     ]
    }
   ],
   "source": [
    "B = np.array([[0.3,0.4,0.1,0.2],[0.2,0.2,0.3,0.3]])\n",
    "print(B)"
   ]
  },
  {
   "cell_type": "code",
   "execution_count": 4,
   "metadata": {},
   "outputs": [
    {
     "name": "stdout",
     "output_type": "stream",
     "text": [
      "[0.4 0.6]\n"
     ]
    }
   ],
   "source": [
    "p = np.array([0.4,0.6])\n",
    "print(p)"
   ]
  },
  {
   "cell_type": "markdown",
   "metadata": {},
   "source": [
    "Recall that in Python array indices start from 0 rather than 1. It is convenient to represent the states $s_1$ and $s_2$ as 0 and 1 rather then 1 and 2. So a sequence of hidden states $s_2, s_1, s_2$ will be represented as"
   ]
  },
  {
   "cell_type": "code",
   "execution_count": 5,
   "metadata": {},
   "outputs": [
    {
     "name": "stdout",
     "output_type": "stream",
     "text": [
      "[1 0 1]\n"
     ]
    }
   ],
   "source": [
    "h = np.array([2,1,2])-1\n",
    "print(h)"
   ]
  },
  {
   "cell_type": "markdown",
   "metadata": {},
   "source": [
    "The same applies to observations. It will be convenient to label them starting from 0. A sequence of observations $x_4, x_1, x_2$ can be represented as"
   ]
  },
  {
   "cell_type": "code",
   "execution_count": 6,
   "metadata": {},
   "outputs": [
    {
     "name": "stdout",
     "output_type": "stream",
     "text": [
      "[1 0 1]\n"
     ]
    }
   ],
   "source": [
    "v = np.array([4,1,2])-1\n",
    "print(h)"
   ]
  },
  {
   "cell_type": "markdown",
   "metadata": {},
   "source": [
    "Write a function using this stab:"
   ]
  },
  {
   "cell_type": "code",
   "execution_count": 7,
   "metadata": {},
   "outputs": [],
   "source": [
    "def joint_probability(M,p,B,h,v):\n",
    "    # joint_probability(M,p,B,h,v) calculates the joint probability of \n",
    "    # (h,v) in the hmm with transition matrix M, emission matrix B, \n",
    "    # and initial probabilities p\n",
    "    \n",
    "    T = np.size(h)\n",
    "    # complete the function"
   ]
  },
  {
   "cell_type": "markdown",
   "metadata": {},
   "source": [
    "(We do not pass $T$ explicitly but instead obtain it from input\n",
    "matrices.)\n",
    "\n",
    "The joint probability is given by\n",
    "$$\n",
    "\\Pr(H_1=h_1,\\ldots,H_T=h_T, V_1=v_1,\\ldots,V_T=v_T) =\n",
    "\\Pr(H_1=h_1)\\Pr(V_1=v_1\\mid H_1=h_1)\n",
    "\\prod_{t=2}^{T}\\Pr(H_{t}=h_{t}\\mid H_{t-1}=h_{t-1})\n",
    "\\Pr(V_{t}=v_{t}\\mid H_{t}=h_{t}).\n",
    "$$\n",
    "\n",
    "In Python time ranges from 0 to $T-1$ so to adjust this formula to Python indices, we represent $h_1$ by `h[0]` and $v_1$ by `v[0]`. The probability $\\Pr(H_1=h_1)$ is then `p[h[0]]` What is $\\Pr(V_1=v_1\\mid H_1=h_1)$? Once you work this out, you can calculate $\\Pr(H_1=h_1)\\Pr(V_1=v_1\\mid H_1=h_1)$.\n",
    "\n",
    "Now we need to do the product $\\prod_{t=2}^{T}$. It is best to do it as a loop, where $t$ ranges from $1$ to $T-1$.\n",
    "\n",
    "The chain made a transition from $h_{t-1}$ to $h_{t}$ before time $t$. The\n",
    "states at times $t-1$ and $t$ can be obtained as `h[t-1]` and \n",
    "  `h[t]`. The probability of a transition between them is \n",
    "  `M[h[t-1],h[t]]`. The probability of the emission that occurred at time\n",
    "$t$ is `B[h[t],v[t]]`. Write a loop to complete the function.\n",
    "\n",
    "For the numbers above the answer is $0.000648$.\n"
   ]
  },
  {
   "cell_type": "markdown",
   "metadata": {},
   "source": [
    "## Naive Method"
   ]
  },
  {
   "cell_type": "markdown",
   "metadata": {},
   "source": [
    "In this section we implement naive methods for calculating\n",
    "probabilities. They are awfully inefficient. However, they are\n",
    "intuitive and will help you to check whether more complicated programs\n",
    "are correct later.\n",
    "\n",
    "When we calculated the joint probability above, we had complete\n",
    "information about all the variables:\n",
    "$H_1=h_1,\\ldots,H_T=h_T,V_1=v_1,\\ldots,V_T=v_T$.  However we often\n",
    "need to calculate more complicated probabilities. For example, we may\n",
    "wonder what the marginal probability\n",
    "$\\Pr(V_1=v_1,V_2=v_2,\\ldots,V_T=v_T)$ is. A naive way to calculate\n",
    "this probability is to sum joint probabilities over all hidden paths\n",
    "(recall the full probability law):\n",
    "\\begin{equation}\n",
    "\\label{eq_likelihood}\n",
    "\\Pr(v_1v_2,\\ldots,v_T)= \n",
    "\\sum_{h_1h_2\\ldots h_T}\\Pr(h_1,h_2,\\ldots,h_T,v_1v_2,\\ldots,v_T).\n",
    "\\end{equation}\n",
    "The sum here is taken over all $N^T$ sequences $h_1h_2\\ldots h_T$,\n",
    "where each $h_t$ can be one of the states $s_1,s_2,\\ldots,s_T$.\n",
    "\n",
    "Other probabilities can be calculated in a similar fashion."
   ]
  },
  {
   "cell_type": "markdown",
   "metadata": {},
   "source": [
    "### Looping over All Strings"
   ]
  },
  {
   "cell_type": "markdown",
   "metadata": {},
   "source": [
    "How do we write a loop over all sequences of hidden states? \n",
    "\n",
    "If there are $N$ states and the time is $T$, we need to go through\n",
    "$N^T$ sequences of states. One may write a loop from 0 to $N-1$ to go\n",
    "through all states at time 1, then a nested loop to go through all\n",
    "states at time 2, then a nested loop... But wait. How does one do $T$\n",
    "nested loops with an arbitrary $T$? There is no easy way.\n",
    "\n",
    "You may try and design your own solution. Here is a suggestion.\n",
    "\n",
    "Let $i$ loop from $0$ to $N^T-1$. Inside the loop we can obtain a\n",
    "representation of $i$ in the base $N$ number system. This will give us\n",
    "$T$ values in the range $0,1,\\ldots,N-1$ each.\n",
    "\n",
    "There is a built-in MATLAB function `np.base_repr`, but it does not\n",
    "do quite what we need. Let us write our own"
   ]
  },
  {
   "cell_type": "code",
   "execution_count": 8,
   "metadata": {},
   "outputs": [],
   "source": [
    "def dec2base_array(d,base,n):\n",
    "\n",
    "    # dec2base_array converts a decimal integer d into an array of n\n",
    "    # integers representing d as a number to the base base.  Examples:\n",
    "    # dec2baseArray(11,12,3) = [0 0 11] \n",
    "    # dec2baseArray(13,12,3) = [0 1 1] \n",
    "    \n",
    "    return"
   ]
  },
  {
   "cell_type": "markdown",
   "metadata": {},
   "source": [
    "We have"
   ]
  },
  {
   "cell_type": "code",
   "execution_count": 9,
   "metadata": {},
   "outputs": [
    {
     "data": {
      "text/plain": [
       "1011"
      ]
     },
     "execution_count": 9,
     "metadata": {},
     "output_type": "execute_result"
    }
   ],
   "source": [
    "8*(11**2) + 3*11 + 10"
   ]
  },
  {
   "cell_type": "markdown",
   "metadata": {},
   "source": [
    "So `dec2base_array(1011,1,3)` should return `[8,3,10]`."
   ]
  },
  {
   "cell_type": "markdown",
   "metadata": {},
   "source": [
    "Write up this function. You may want to use the function `np.remainder`,\n",
    "which calculates the remainder from division (see https://docs.scipy.org/doc/numpy-1.15.1/reference/generated/numpy.remainder.html). You need to apply\n",
    "`np.remainder` in a loop working out the remainder from division by\n",
    "`base`.\n",
    "\n",
    "It is important that your final output should be of type `int` (i.e., `[8,3,10]` rather than `[8.,3.,10.]`). We will use it as indices to arrays, and floating point numbers will fail in this role. One can do explicit casting with `a = a.astype(int)`."
   ]
  },
  {
   "cell_type": "markdown",
   "metadata": {},
   "source": [
    "We can test the functions we have written so far\n",
    "simultaneously. Create small matrices $M$, $B$, and $p$ or use existing matrices. Let us loop over all\n",
    "possible hidden paths of length $T$ and all emissions in two nested\n",
    "loops and calculate the sum of probabilities."
   ]
  },
  {
   "cell_type": "code",
   "execution_count": null,
   "metadata": {},
   "outputs": [],
   "source": [
    "N = M.shape[0]\n",
    "K = B.shape[1]\n",
    "\n",
    "T = 5\n",
    "\n",
    "prob = 0.\n",
    "\n",
    "for i in range(N**T):\n",
    "    for j in range(K**T):\n",
    "        h = dec2base_array(i,N,T)\n",
    "        v = dec2base_array(j,K,T)\n",
    "        \n",
    "        prob += joint_probability(M,p,B,h,v)\n",
    "        # it won't work unless you have the function written above\n",
    "        \n",
    "    if (np.remainder(i,N**(T-2)) == 0):\n",
    "        print(\"i = %d; %f percent completed\" %(i,100*(i+1)/(N**T)))\n",
    "print(prob)"
   ]
  },
  {
   "cell_type": "markdown",
   "metadata": {},
   "source": [
    "These two nested loops sum `joint_probability` over all _pairs_ of sequences of paths and observations. The result must be 1. (Why?)\n",
    "\n",
    "**Note:** The result should be really clode to 1. If you get `0.98`, something is wrong. If your code is correct, you will get something like `0.9999999999999821`."
   ]
  },
  {
   "cell_type": "markdown",
   "metadata": {},
   "source": [
    "## Naive Alpha\n",
    "\n",
    "A parameter alpha is defined as\n",
    "$$\n",
    "\\alpha_T(i)=\\Pr(H_T=s_i,v_1,\\ldots,v_T)\\enspace.\n",
    "$$\n",
    "Let us calculate it in a naive way:\n",
    "$$\n",
    "\\Pr(H_T=s_i,v_1,\\ldots,v_T)=\\sum_{h_1,h_2,\\ldots,h_{T-1},h_{T}=s_i}\n",
    "\\Pr(h_1,h_2,\\ldots,h_T,v_1v_2,\\ldots,v_T)\\enspace,\n",
    "$$\n",
    "i.e., we need to sum the joint probability $\\Pr(h,v)$ over all\n",
    "sequences $h$ that end in $s_i$.\n",
    "\n",
    "Here is the stub:"
   ]
  },
  {
   "cell_type": "code",
   "execution_count": null,
   "metadata": {},
   "outputs": [],
   "source": [
    "def alpha_naive(M,p,B,v,i):\n",
    "    \n",
    "    # alpha_naive(M,p,B,v,i) calculates the joint probability \n",
    "    # of h_T=i and observations v in the hmm with transition \n",
    "    # matrix M, emission matrix B, and initial probabilities p\n",
    "    \n",
    "    N = M.shape[1]\n",
    "    T = v.size\n",
    "    \n",
    "    a = 0\n",
    "    \n",
    "    for j in range(0,N**T):\n",
    "        # ... #\n",
    "    \n",
    "    return a"
   ]
  },
  {
   "cell_type": "markdown",
   "metadata": {},
   "source": [
    "Now complete the loop over all hidden paths; in the loop check if the\n",
    "path ends in `i` and if so, add the joint probability to `a`.\n",
    "\n",
    "Or you can loop over all paths of length $T-1$ and add `i` at the\n",
    "end. This is of course faster.\n",
    "\n",
    "Use the note _Calculating Alphas in the Forward-Backward Algorithm_ for a test example."
   ]
  },
  {
   "cell_type": "markdown",
   "metadata": {},
   "source": [
    "## Dynamic Programming\n",
    "\n",
    "Now let us implement a dynamic programming method to calculate alpha. \n",
    "\n",
    "This function will output the whole $N\\times T$ matrix of alphas.\n",
    "\n",
    "We have \n",
    "$$\n",
    "\\alpha_1(j)= \\Pr(H_1=s_j, V_1=v_1)=\\Pr(H_1=s_j)\\Pr(V_1=v_1\\mid\n",
    "H_1=s_j)\\enspace,\n",
    "$$\n",
    "for $j=1,2,\\ldots,N$, and then\n",
    "$$\n",
    "\\alpha_t(j)=\\Pr(v_t\\mid s_j)\\sum_{i=1}^Np_{i,j}\\alpha_{t-1}(i),\n",
    "$$\n",
    "$t=2,3,\\ldots,T$ and $j=1,2,\\ldots,N$.\n",
    "\n",
    "We will fill the matrix $a$ left-to-right column by column. The first\n",
    "column can be done as "
   ]
  },
  {
   "cell_type": "code",
   "execution_count": 12,
   "metadata": {},
   "outputs": [
    {
     "data": {
      "text/plain": [
       "array([[0.08,  nan,  nan,  nan,  nan],\n",
       "       [0.18,  nan,  nan,  nan,  nan]])"
      ]
     },
     "execution_count": 12,
     "metadata": {},
     "output_type": "execute_result"
    }
   ],
   "source": [
    "M = np.array([[0.8, 0.2],[0.3,0.7]])\n",
    "B = np.array([[0.3,0.4,0.1,0.2],[0.2,0.2,0.3,0.3]])\n",
    "p = np.array([0.4,0.6])\n",
    "v = np.array([4,1,2])-1\n",
    "\n",
    "a = np.nan*np.ones((N,T))\n",
    "\n",
    "for j in range(0,N):\n",
    "    a[j,0] = p[j]*B[j,v[0]]\n",
    "    \n",
    "    \n",
    "a"
   ]
  },
  {
   "cell_type": "markdown",
   "metadata": {},
   "source": [
    "However, there is faster vectorised way of writing this:"
   ]
  },
  {
   "cell_type": "code",
   "execution_count": 13,
   "metadata": {},
   "outputs": [
    {
     "data": {
      "text/plain": [
       "array([[0.08,  nan,  nan,  nan,  nan],\n",
       "       [0.18,  nan,  nan,  nan,  nan]])"
      ]
     },
     "execution_count": 13,
     "metadata": {},
     "output_type": "execute_result"
    }
   ],
   "source": [
    "a[:,0] = p*B[:,v[0]]\n",
    "\n",
    "a"
   ]
  },
  {
   "cell_type": "markdown",
   "metadata": {},
   "source": [
    "The operation `*` perform elementwise multiplication of two\n",
    "vectors (or matrices) of the same size. To see how it works, try"
   ]
  },
  {
   "cell_type": "code",
   "execution_count": 14,
   "metadata": {},
   "outputs": [
    {
     "data": {
      "text/plain": [
       "array([3, 8])"
      ]
     },
     "execution_count": 14,
     "metadata": {},
     "output_type": "execute_result"
    }
   ],
   "source": [
    "np.array([1,2])*np.array([3,4])"
   ]
  },
  {
   "cell_type": "markdown",
   "metadata": {},
   "source": [
    "Vectorised Python code usually executes faster.\n",
    "\n",
    "It remains to write a loop for $t$ from 1 to $T-1$ computing values of\n",
    "alpha. Inside the loop you can either have a nested loop over $j$ or\n",
    "a vectorised expression.\n",
    "\n",
    "You can test your function against `alpha_naive` and make sure it\n",
    "works correctly."
   ]
  },
  {
   "cell_type": "code",
   "execution_count": null,
   "metadata": {},
   "outputs": [],
   "source": [
    "def alpha_dynamic(M,p,B,v):\n",
    "\n",
    "    # alpha_dynamic(M,p,B,v) calculates the matrix of alpha's the \n",
    "    # hmm with transition matrix M, emission matrix B, and initial \n",
    "    # probabilities p, given the observations v\n",
    "    \n",
    "    T = np.size(v)\n",
    "    N = M.shape[1]\n",
    "    \n",
    "    #...#\n",
    "    \n",
    "    return a"
   ]
  },
  {
   "cell_type": "markdown",
   "metadata": {},
   "source": [
    "Marginal Probability\n",
    "\n",
    "Write two functions, `likelihood_naive(M,p,B,v)` and `likelihood(alpha_values)`\n",
    "that calculate the marginal probability $\\Pr(v)$ of the observations\n",
    "$v=v_1v_2\\ldots v_T$. The former should use sum joint probabilities over all hidden paths:\n",
    "$$\n",
    "\\Pr(v_1v_2,\\ldots,v_T)= \n",
    "\\sum_{h_1h_2\\ldots h_T}\\Pr(h_1,h_2,\\ldots,h_T,v_1v_2,\\ldots,v_T).\n",
    "$$\n",
    "(the sum here is taken over all $N^T$ sequences $h_1h_2\\ldots h_T$,\n",
    "where each $h_t$ can be one of the states $s_1,s_2,\\ldots,s_T$).\n",
    "\n",
    "The later should use\n",
    "$$\n",
    "\\Pr(v_1,v_2,\\ldots,v_T)=\\sum_{i=1}^N\\alpha_T(i)\\enspace.\n",
    "$$ \n",
    "The later method should take the matrix of alphas output by\n",
    "'alpha_dynamic' as input. The values $\\alpha_T(i)$ fill in the\n",
    "last column of `alpha_values`; it can be accessed as\n",
    "`alpha_values[:,-1]`."
   ]
  },
  {
   "cell_type": "markdown",
   "metadata": {},
   "source": [
    "##Hard Stuff: Viterbi\n",
    "\n",
    "This section contains a harder problem: implement the Viterbi\n",
    "algorithm.\n",
    "\n",
    "Write `viterbi(M,p,B,v)` to find a MAP hidden path h for the sequence \n",
    "`v` of observations in the hmm with transition matrix `M`, emission \n",
    "matrix `B`, and initial probabilities `p`.\n",
    "\n",
    "Although this is difficult conceptually, the code is not much longer\n",
    "than that for alpha.\n",
    "\n",
    "You will need two matrices, `pathValues` and `previousState`. The value of `pathValue(i,t)` will contain the\n",
    "'weight' of the 'heaviest' path $h_1h_2\\ldots h_t$ ending at the state\n",
    "$s_i$ and `pathValue(i,t)` the previous state of this 'heaviest'\n",
    "path. Fill them in left-to-right.\n",
    "\n",
    "You can test your implementation of Viterbi by writing a naive maximum\n",
    "likelihood implementation going through all paths."
   ]
  },
  {
   "cell_type": "markdown",
   "metadata": {},
   "source": [
    "## Further Work\n",
    "\n",
    "The first part of the coursework assignment will be to implement the\n",
    "dynamic programming algorithm for $\\beta$. You may start working on it\n",
    "now.\n",
    "\n",
    "You can use it to calculate $\\gamma$. The values of $\\gamma$ can be\n",
    "tested using a naive algorithm."
   ]
  },
  {
   "cell_type": "code",
   "execution_count": null,
   "metadata": {},
   "outputs": [],
   "source": []
  }
 ],
 "metadata": {
  "kernelspec": {
   "display_name": "Python 3",
   "language": "python",
   "name": "python3"
  },
  "language_info": {
   "codemirror_mode": {
    "name": "ipython",
    "version": 3
   },
   "file_extension": ".py",
   "mimetype": "text/x-python",
   "name": "python",
   "nbconvert_exporter": "python",
   "pygments_lexer": "ipython3",
   "version": "3.6.5"
  }
 },
 "nbformat": 4,
 "nbformat_minor": 2
}
